{
  "nbformat": 4,
  "nbformat_minor": 0,
  "metadata": {
    "colab": {
      "name": "AutoScraper.ipynb",
      "provenance": [],
      "collapsed_sections": []
    },
    "kernelspec": {
      "name": "python3",
      "display_name": "Python 3"
    },
    "language_info": {
      "name": "python"
    }
  },
  "cells": [
    {
      "cell_type": "markdown",
      "source": [
        "Amazon Wesbite Scrapping"
      ],
      "metadata": {
        "id": "UuxqsnQqVrAI"
      }
    },
    {
      "cell_type": "code",
      "execution_count": null,
      "metadata": {
        "id": "ngyyrb8vS7bi"
      },
      "outputs": [],
      "source": [
        "!pip install autoscraper"
      ]
    },
    {
      "cell_type": "code",
      "source": [
        "from autoscraper import AutoScraper\n",
        "import pandas as pd"
      ],
      "metadata": {
        "id": "o3Rje_TOTJ0L"
      },
      "execution_count": 43,
      "outputs": []
    },
    {
      "cell_type": "code",
      "source": [
        "amazon_headphone=\"https://www.amazon.in/headphones/s?k=headphones\"\n",
        "wanted=[\"₹20,539\",\"Sennheiser Professional Audio HD 400 Pro Wired Over Ear Headphones Without micBlack\",\"23,772\"]"
      ],
      "metadata": {
        "id": "RGM1dCg4TaQQ"
      },
      "execution_count": 13,
      "outputs": []
    },
    {
      "cell_type": "code",
      "source": [
        "#Building Autoscrapper\n",
        "scraper= AutoScraper()\n",
        "data=scraper.build(amazon_headphone, wanted)\n",
        "data\n"
      ],
      "metadata": {
        "colab": {
          "base_uri": "https://localhost:8080/"
        },
        "id": "JSvGJnAuWgVh",
        "outputId": "a9f309b6-17e2-45d1-f8d3-7a210c1eea79"
      },
      "execution_count": 14,
      "outputs": [
        {
          "output_type": "execute_result",
          "data": {
            "text/plain": [
              "['₹20,539',\n",
              " '₹21,990',\n",
              " '₹24,990',\n",
              " '₹29,990',\n",
              " '₹1,999',\n",
              " '₹4,999',\n",
              " '₹3,990',\n",
              " '₹899',\n",
              " '₹1,990',\n",
              " '₹1,499',\n",
              " '₹2,999',\n",
              " 'Sennheiser Professional Audio HD 400 Pro Wired Over Ear Headphones Without micBlack',\n",
              " 'Sony Wh-1000Xm4 Industry Leading Noise Cancellation Bluetooth Wireless Over Ear Headphones with Mic for Phone Calls, 30 Hours Battery Life, Quick Charge, Aux, Touch Control and Voice Control (Black)',\n",
              " 'boAt Rockerz 550 Over Ear Bluetooth Headphones with Upto 20 Hours Playback, 50MM Drivers, Soft Padded Ear Cushions and Physical Noise Isolation(Army Green)',\n",
              " 'boAt Rockerz 450 Pro On Ear Bluetooth Headphones with Upto 15 Hours Playback, ASAP Charge, 40MM Drivers, Padded Ear Cushions and Dual Modes(Luscious Black)',\n",
              " 'boAt BassHeads 950v2 Wired Over Ear Headphones with Mic, with 40mm Audio Drivers, Soft Ear-Cushion, Lightweight Build, 3.5mm Jack and with mic(Raging Black)',\n",
              " 'boAt Rockerz 425 Bluetooth Wireless Over Ear Headphones with boAt Signature Sound, Beast Mode(Upto 65ms Latency) for Gaming, ENx Tech, ASAP Charge, 25H Playtime, Bluetooth v5.2, with mic(Active Black)',\n",
              " '23,772',\n",
              " '63,212',\n",
              " '64,004',\n",
              " '78,228',\n",
              " '78,748',\n",
              " '317,459',\n",
              " '172,131',\n",
              " '11,267',\n",
              " '129,715',\n",
              " '43,654',\n",
              " '42,193',\n",
              " '108,369',\n",
              " '85,197',\n",
              " '32,851']"
            ]
          },
          "metadata": {},
          "execution_count": 14
        }
      ]
    },
    {
      "cell_type": "code",
      "source": [
        "scraper.get_result_similar(amazon_headphone, grouped=True)"
      ],
      "metadata": {
        "colab": {
          "base_uri": "https://localhost:8080/"
        },
        "id": "sJ8CuXuMWgbV",
        "outputId": "ccb62d30-8138-4a6b-9121-976769a5e1d8"
      },
      "execution_count": 16,
      "outputs": [
        {
          "output_type": "execute_result",
          "data": {
            "text/plain": [
              "{'rule_e9tm': ['Sennheiser Professional Audio HD 400 Pro Wired Over Ear Headphones Without micBlack',\n",
              "  'Sony Wh-1000Xm4 Industry Leading Noise Cancellation Bluetooth Wireless Over Ear Headphones with Mic for Phone Calls, 30 Hours Battery Life, Quick Charge, Aux, Touch Control and Voice Control (Black)',\n",
              "  'boAt Rockerz 550 Over Ear Bluetooth Headphones with Upto 20 Hours Playback, 50MM Drivers, Soft Padded Ear Cushions and Physical Noise Isolation(Army Green)',\n",
              "  'boAt Rockerz 450 Pro On Ear Bluetooth Headphones with Upto 15 Hours Playback, ASAP Charge, 40MM Drivers, Padded Ear Cushions and Dual Modes(Luscious Black)',\n",
              "  'boAt Rockerz 425 Bluetooth Wireless Over Ear Headphones with boAt Signature Sound, Beast Mode(Upto 65ms Latency) for Gaming, ENx Tech, ASAP Charge, 25H Playtime, Bluetooth v5.2, with mic(Active Black)',\n",
              "  'boAt Bassheads 900 Wired On Ear Headphones with Mic (Pearl White)'],\n",
              " 'rule_fovt': ['₹20,539',\n",
              "  '₹21,990',\n",
              "  '₹24,990',\n",
              "  '₹29,990',\n",
              "  '₹1,999',\n",
              "  '₹4,999',\n",
              "  '₹1,999',\n",
              "  '₹3,990',\n",
              "  '₹1,499',\n",
              "  '₹2,999',\n",
              "  '₹799',\n",
              "  '₹2,490'],\n",
              " 'rule_mw6p': ['₹20,539',\n",
              "  '₹21,990',\n",
              "  '₹24,990',\n",
              "  '₹29,990',\n",
              "  '₹1,999',\n",
              "  '₹4,999',\n",
              "  '₹1,999',\n",
              "  '₹3,990',\n",
              "  '₹1,499',\n",
              "  '₹2,999',\n",
              "  '₹799',\n",
              "  '₹2,490'],\n",
              " 'rule_tx5t': ['23,772',\n",
              "  '63,212',\n",
              "  '64,004',\n",
              "  '78,228',\n",
              "  '78,748',\n",
              "  '317,459',\n",
              "  '172,131',\n",
              "  '11,267',\n",
              "  '43,654',\n",
              "  '129,715',\n",
              "  '78,228',\n",
              "  '42,194',\n",
              "  '108,369',\n",
              "  '85,197',\n",
              "  '32,851',\n",
              "  '1,189']}"
            ]
          },
          "metadata": {},
          "execution_count": 16
        }
      ]
    },
    {
      "cell_type": "markdown",
      "source": [
        "## Changing titles and saving model for scrapping with new data of similar type"
      ],
      "metadata": {
        "id": "fpXYBB5ggBj-"
      }
    },
    {
      "cell_type": "code",
      "source": [
        "scraper.set_rule_aliases({'rule_e9tm':'Title','rule_fovt':'Price','rule_tx5t':'Rating'})\n",
        "scraper.keep_rules(['rule_e9tm','rule_fovt','rule_tx5t'])\n",
        "scraper.save('Product_Scrape')"
      ],
      "metadata": {
        "id": "6ZkyYt0bWghS"
      },
      "execution_count": 29,
      "outputs": []
    },
    {
      "cell_type": "markdown",
      "source": [
        "## Model Saved above!  Now giving giving new url for more scraping"
      ],
      "metadata": {
        "id": "RQDz7SIOgnYS"
      }
    },
    {
      "cell_type": "code",
      "source": [
        "#New url\n",
        "data1=scraper.get_result_similar('https://www.amazon.in/s?k=I+phone&crid=V3USA2S14IS9&sprefix=i+phon%2Caps%2C586&ref=nb_sb_noss',group_by_alias=True)"
      ],
      "metadata": {
        "colab": {
          "base_uri": "https://localhost:8080/"
        },
        "id": "BxVj9HufWgvI",
        "outputId": "7134b178-827f-4d57-9dbd-5caebce44e43"
      },
      "execution_count": 30,
      "outputs": [
        {
          "output_type": "execute_result",
          "data": {
            "text/plain": [
              "['Apple iPhone 12 (64GB) - Black', 'Apple iPhone XR (128GB) - Coral']"
            ]
          },
          "metadata": {},
          "execution_count": 30
        }
      ]
    },
    {
      "cell_type": "markdown",
      "source": [
        "## Printing data from newly provided url"
      ],
      "metadata": {
        "id": "aa4ns35JhXAC"
      }
    },
    {
      "cell_type": "code",
      "source": [
        "data1['Title']"
      ],
      "metadata": {
        "colab": {
          "base_uri": "https://localhost:8080/"
        },
        "id": "gTkfHwfOhB55",
        "outputId": "03a1741c-81d1-4b77-dd8f-406a3e02836a"
      },
      "execution_count": 37,
      "outputs": [
        {
          "output_type": "execute_result",
          "data": {
            "text/plain": [
              "['Apple iPhone 12 (64GB) - Black', 'Apple iPhone XR (128GB) - Coral']"
            ]
          },
          "metadata": {},
          "execution_count": 37
        }
      ]
    },
    {
      "cell_type": "code",
      "source": [
        "data1['Price']"
      ],
      "metadata": {
        "colab": {
          "base_uri": "https://localhost:8080/"
        },
        "id": "CwxLExF3WgxG",
        "outputId": "d77745e2-cf8d-4cba-8c0a-7b5e0d6bd740"
      },
      "execution_count": 38,
      "outputs": [
        {
          "output_type": "execute_result",
          "data": {
            "text/plain": [
              "['₹54,900', '₹65,900', '₹42,999', '₹52,900']"
            ]
          },
          "metadata": {},
          "execution_count": 38
        }
      ]
    },
    {
      "cell_type": "code",
      "source": [
        "data1['Rating']"
      ],
      "metadata": {
        "colab": {
          "base_uri": "https://localhost:8080/"
        },
        "id": "D-ghSSPHWg0a",
        "outputId": "c8824808-943c-4f2a-e2b9-d0182950d49f"
      },
      "execution_count": 39,
      "outputs": [
        {
          "output_type": "execute_result",
          "data": {
            "text/plain": [
              "['12,334',\n",
              " '51,607',\n",
              " '51,607',\n",
              " '12,334',\n",
              " '7,049',\n",
              " '1,493',\n",
              " '12,334',\n",
              " '12,334',\n",
              " '12,334',\n",
              " '1,493',\n",
              " '12,334',\n",
              " '51,607',\n",
              " '474',\n",
              " '51,607',\n",
              " '1,566']"
            ]
          },
          "metadata": {},
          "execution_count": 39
        }
      ]
    },
    {
      "cell_type": "code",
      "source": [
        "data1 "
      ],
      "metadata": {
        "colab": {
          "base_uri": "https://localhost:8080/"
        },
        "id": "doEwplY6fsjx",
        "outputId": "db812331-d480-4c52-b8ae-d61bf7fc7ea8"
      },
      "execution_count": 42,
      "outputs": [
        {
          "output_type": "execute_result",
          "data": {
            "text/plain": [
              "{'Price': ['₹54,900', '₹65,900', '₹42,999', '₹52,900'],\n",
              " 'Rating': ['12,334',\n",
              "  '51,607',\n",
              "  '51,607',\n",
              "  '12,334',\n",
              "  '7,049',\n",
              "  '1,493',\n",
              "  '12,334',\n",
              "  '12,334',\n",
              "  '12,334',\n",
              "  '1,493',\n",
              "  '12,334',\n",
              "  '51,607',\n",
              "  '474',\n",
              "  '51,607',\n",
              "  '1,566'],\n",
              " 'Title': ['Apple iPhone 12 (64GB) - Black',\n",
              "  'Apple iPhone XR (128GB) - Coral']}"
            ]
          },
          "metadata": {},
          "execution_count": 42
        }
      ]
    },
    {
      "cell_type": "code",
      "source": [
        "#CONVERTING INTO DATAFRAME\n",
        "awadh=pd.DataFrame(data1.items())\n",
        "awadh"
      ],
      "metadata": {
        "colab": {
          "base_uri": "https://localhost:8080/",
          "height": 143
        },
        "id": "7clWUQhLkt_R",
        "outputId": "76a7072d-0f4d-4f14-e5ce-65b33a88c589"
      },
      "execution_count": 57,
      "outputs": [
        {
          "output_type": "execute_result",
          "data": {
            "text/plain": [
              "        0                                                  1\n",
              "0   Price               [₹54,900, ₹65,900, ₹42,999, ₹52,900]\n",
              "1   Title  [Apple iPhone 12 (64GB) - Black, Apple iPhone ...\n",
              "2  Rating  [12,334, 51,607, 51,607, 12,334, 7,049, 1,493,..."
            ],
            "text/html": [
              "\n",
              "  <div id=\"df-52b136ed-2ec8-4154-8e5c-df3ace1a36d8\">\n",
              "    <div class=\"colab-df-container\">\n",
              "      <div>\n",
              "<style scoped>\n",
              "    .dataframe tbody tr th:only-of-type {\n",
              "        vertical-align: middle;\n",
              "    }\n",
              "\n",
              "    .dataframe tbody tr th {\n",
              "        vertical-align: top;\n",
              "    }\n",
              "\n",
              "    .dataframe thead th {\n",
              "        text-align: right;\n",
              "    }\n",
              "</style>\n",
              "<table border=\"1\" class=\"dataframe\">\n",
              "  <thead>\n",
              "    <tr style=\"text-align: right;\">\n",
              "      <th></th>\n",
              "      <th>0</th>\n",
              "      <th>1</th>\n",
              "    </tr>\n",
              "  </thead>\n",
              "  <tbody>\n",
              "    <tr>\n",
              "      <th>0</th>\n",
              "      <td>Price</td>\n",
              "      <td>[₹54,900, ₹65,900, ₹42,999, ₹52,900]</td>\n",
              "    </tr>\n",
              "    <tr>\n",
              "      <th>1</th>\n",
              "      <td>Title</td>\n",
              "      <td>[Apple iPhone 12 (64GB) - Black, Apple iPhone ...</td>\n",
              "    </tr>\n",
              "    <tr>\n",
              "      <th>2</th>\n",
              "      <td>Rating</td>\n",
              "      <td>[12,334, 51,607, 51,607, 12,334, 7,049, 1,493,...</td>\n",
              "    </tr>\n",
              "  </tbody>\n",
              "</table>\n",
              "</div>\n",
              "      <button class=\"colab-df-convert\" onclick=\"convertToInteractive('df-52b136ed-2ec8-4154-8e5c-df3ace1a36d8')\"\n",
              "              title=\"Convert this dataframe to an interactive table.\"\n",
              "              style=\"display:none;\">\n",
              "        \n",
              "  <svg xmlns=\"http://www.w3.org/2000/svg\" height=\"24px\"viewBox=\"0 0 24 24\"\n",
              "       width=\"24px\">\n",
              "    <path d=\"M0 0h24v24H0V0z\" fill=\"none\"/>\n",
              "    <path d=\"M18.56 5.44l.94 2.06.94-2.06 2.06-.94-2.06-.94-.94-2.06-.94 2.06-2.06.94zm-11 1L8.5 8.5l.94-2.06 2.06-.94-2.06-.94L8.5 2.5l-.94 2.06-2.06.94zm10 10l.94 2.06.94-2.06 2.06-.94-2.06-.94-.94-2.06-.94 2.06-2.06.94z\"/><path d=\"M17.41 7.96l-1.37-1.37c-.4-.4-.92-.59-1.43-.59-.52 0-1.04.2-1.43.59L10.3 9.45l-7.72 7.72c-.78.78-.78 2.05 0 2.83L4 21.41c.39.39.9.59 1.41.59.51 0 1.02-.2 1.41-.59l7.78-7.78 2.81-2.81c.8-.78.8-2.07 0-2.86zM5.41 20L4 18.59l7.72-7.72 1.47 1.35L5.41 20z\"/>\n",
              "  </svg>\n",
              "      </button>\n",
              "      \n",
              "  <style>\n",
              "    .colab-df-container {\n",
              "      display:flex;\n",
              "      flex-wrap:wrap;\n",
              "      gap: 12px;\n",
              "    }\n",
              "\n",
              "    .colab-df-convert {\n",
              "      background-color: #E8F0FE;\n",
              "      border: none;\n",
              "      border-radius: 50%;\n",
              "      cursor: pointer;\n",
              "      display: none;\n",
              "      fill: #1967D2;\n",
              "      height: 32px;\n",
              "      padding: 0 0 0 0;\n",
              "      width: 32px;\n",
              "    }\n",
              "\n",
              "    .colab-df-convert:hover {\n",
              "      background-color: #E2EBFA;\n",
              "      box-shadow: 0px 1px 2px rgba(60, 64, 67, 0.3), 0px 1px 3px 1px rgba(60, 64, 67, 0.15);\n",
              "      fill: #174EA6;\n",
              "    }\n",
              "\n",
              "    [theme=dark] .colab-df-convert {\n",
              "      background-color: #3B4455;\n",
              "      fill: #D2E3FC;\n",
              "    }\n",
              "\n",
              "    [theme=dark] .colab-df-convert:hover {\n",
              "      background-color: #434B5C;\n",
              "      box-shadow: 0px 1px 3px 1px rgba(0, 0, 0, 0.15);\n",
              "      filter: drop-shadow(0px 1px 2px rgba(0, 0, 0, 0.3));\n",
              "      fill: #FFFFFF;\n",
              "    }\n",
              "  </style>\n",
              "\n",
              "      <script>\n",
              "        const buttonEl =\n",
              "          document.querySelector('#df-52b136ed-2ec8-4154-8e5c-df3ace1a36d8 button.colab-df-convert');\n",
              "        buttonEl.style.display =\n",
              "          google.colab.kernel.accessAllowed ? 'block' : 'none';\n",
              "\n",
              "        async function convertToInteractive(key) {\n",
              "          const element = document.querySelector('#df-52b136ed-2ec8-4154-8e5c-df3ace1a36d8');\n",
              "          const dataTable =\n",
              "            await google.colab.kernel.invokeFunction('convertToInteractive',\n",
              "                                                     [key], {});\n",
              "          if (!dataTable) return;\n",
              "\n",
              "          const docLinkHtml = 'Like what you see? Visit the ' +\n",
              "            '<a target=\"_blank\" href=https://colab.research.google.com/notebooks/data_table.ipynb>data table notebook</a>'\n",
              "            + ' to learn more about interactive tables.';\n",
              "          element.innerHTML = '';\n",
              "          dataTable['output_type'] = 'display_data';\n",
              "          await google.colab.output.renderOutput(dataTable, element);\n",
              "          const docLink = document.createElement('div');\n",
              "          docLink.innerHTML = docLinkHtml;\n",
              "          element.appendChild(docLink);\n",
              "        }\n",
              "      </script>\n",
              "    </div>\n",
              "  </div>\n",
              "  "
            ]
          },
          "metadata": {},
          "execution_count": 57
        }
      ]
    },
    {
      "cell_type": "code",
      "source": [
        ""
      ],
      "metadata": {
        "id": "sQ-IjV7PlZd9"
      },
      "execution_count": 53,
      "outputs": []
    },
    {
      "cell_type": "code",
      "source": [
        ""
      ],
      "metadata": {
        "id": "-IngyHn2l9e2"
      },
      "execution_count": null,
      "outputs": []
    }
  ]
}